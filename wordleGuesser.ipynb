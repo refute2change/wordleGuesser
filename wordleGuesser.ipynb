{
  "nbformat": 4,
  "nbformat_minor": 0,
  "metadata": {
    "colab": {
      "provenance": []
    },
    "kernelspec": {
      "name": "python3",
      "display_name": "Python 3"
    },
    "language_info": {
      "name": "python"
    }
  },
  "cells": [
    {
      "cell_type": "code",
      "execution_count": 1,
      "metadata": {
        "id": "DI-wz3PwyX04"
      },
      "outputs": [],
      "source": [
        "import os\n",
        "\n",
        "def load_data():\n",
        "    # Check if the file exists\n",
        "    if not os.path.exists(\"5letters.txt\"):\n",
        "        print(\"File not found!\")\n",
        "        return None\n",
        "\n",
        "    # Load the data from the file\n",
        "    with open(\"5letters.txt\", \"r\") as f:\n",
        "        words = f.read().splitlines()\n",
        "\n",
        "    return words\n"
      ]
    },
    {
      "cell_type": "code",
      "source": [
        "from tqdm import tqdm\n",
        "import json\n",
        "\n",
        "words = load_data()\n",
        "print(words)"
      ],
      "metadata": {
        "id": "X1DZvgKoz3LW"
      },
      "execution_count": null,
      "outputs": []
    }
  ]
}