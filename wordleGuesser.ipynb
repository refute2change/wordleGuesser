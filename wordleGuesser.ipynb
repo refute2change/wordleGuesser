{
  "cells": [
    {
      "cell_type": "code",
      "execution_count": 3,
      "metadata": {
        "colab": {
          "base_uri": "https://localhost:8080/"
        },
        "id": "c799V_fR0qoX",
        "outputId": "95a75501-2ab8-43fa-cf79-cd02421d62d1"
      },
      "outputs": [
        {
          "output_type": "stream",
          "name": "stdout",
          "text": [
            "Mounted at /content/drive\n",
            "Current working directory: /content/drive/MyDrive\n"
          ]
        }
      ],
      "source": [
        "# prompt: connect only to a folder in google drive and mount it in the current directory\n",
        "\n",
        "from google.colab import drive\n",
        "import os\n",
        "\n",
        "# Mount the specific folder in Google Drive\n",
        "folder_name = \"MyDrive\"\n",
        "mount_point = \"/content/drive\"\n",
        "\n",
        "drive.mount(mount_point, force_remount = True)\n",
        "\n",
        "# Change the current working directory to the mounted folder\n",
        "os.chdir(os.path.join(mount_point, folder_name))\n",
        "\n",
        "# Verify the current working directory\n",
        "print(f\"Current working directory: {os.getcwd()}\")\n"
      ]
    },
    {
      "source": [
        "!chmod +x post-checkout"
      ],
      "cell_type": "code",
      "metadata": {
        "id": "7FbK8K2ODH6i",
        "outputId": "42c99f45-a83a-412f-b1e5-a45aed2440a4",
        "colab": {
          "base_uri": "https://localhost:8080/"
        }
      },
      "execution_count": 6,
      "outputs": [
        {
          "output_type": "stream",
          "name": "stdout",
          "text": [
            "chmod: cannot access 'post-checkout': No such file or directory\n"
          ]
        }
      ]
    },
    {
      "cell_type": "code",
      "execution_count": 8,
      "metadata": {
        "colab": {
          "base_uri": "https://localhost:8080/",
          "height": 315
        },
        "id": "jpalod4T0eEf",
        "outputId": "491e3d2a-3f0b-4f8d-d55f-e481d41af1dd"
      },
      "outputs": [
        {
          "output_type": "stream",
          "name": "stdout",
          "text": [
            "Cloning into 'wordleGuesser'...\n",
            "remote: Enumerating objects: 66, done.\u001b[K\n",
            "remote: Counting objects: 100% (66/66), done.\u001b[K\n",
            "remote: Compressing objects: 100% (54/54), done.\u001b[K\n",
            "remote: Total 66 (delta 14), reused 50 (delta 4), pack-reused 0 (from 0)\u001b[K\n",
            "Receiving objects: 100% (66/66), 409.67 KiB | 8.91 MiB/s, done.\n",
            "fatal: premature end of pack file, 43055 bytes missing\n",
            "fatal: fetch-pack: invalid index-pack output\n"
          ]
        },
        {
          "output_type": "error",
          "ename": "FileNotFoundError",
          "evalue": "[Errno 2] No such file or directory: 'wordleGuesser'",
          "traceback": [
            "\u001b[0;31m---------------------------------------------------------------------------\u001b[0m",
            "\u001b[0;31mFileNotFoundError\u001b[0m                         Traceback (most recent call last)",
            "\u001b[0;32m<ipython-input-8-e973bd8464e8>\u001b[0m in \u001b[0;36m<cell line: 0>\u001b[0;34m()\u001b[0m\n\u001b[1;32m      1\u001b[0m \u001b[0mget_ipython\u001b[0m\u001b[0;34m(\u001b[0m\u001b[0;34m)\u001b[0m\u001b[0;34m.\u001b[0m\u001b[0msystem\u001b[0m\u001b[0;34m(\u001b[0m\u001b[0;34m'git clone https://github.com/refute2change/wordleGuesser.git'\u001b[0m\u001b[0;34m)\u001b[0m\u001b[0;34m\u001b[0m\u001b[0;34m\u001b[0m\u001b[0m\n\u001b[0;32m----> 2\u001b[0;31m \u001b[0mos\u001b[0m\u001b[0;34m.\u001b[0m\u001b[0mchdir\u001b[0m\u001b[0;34m(\u001b[0m\u001b[0;34m\"wordleGuesser\"\u001b[0m\u001b[0;34m)\u001b[0m\u001b[0;34m\u001b[0m\u001b[0;34m\u001b[0m\u001b[0m\n\u001b[0m",
            "\u001b[0;31mFileNotFoundError\u001b[0m: [Errno 2] No such file or directory: 'wordleGuesser'"
          ]
        }
      ],
      "source": [
        "!git clone https://github.com/refute2change/wordleGuesser.git\n",
        "os.chdir(\"wordleGuesser\")"
      ]
    },
    {
      "cell_type": "code",
      "execution_count": 9,
      "metadata": {
        "id": "DI-wz3PwyX04"
      },
      "outputs": [],
      "source": [
        "import os\n",
        "\n",
        "def load_data():\n",
        "    # Check if the file exists\n",
        "    if not os.path.exists(\"5letters.txt\"):\n",
        "        print(\"File not found!\")\n",
        "        return None\n",
        "\n",
        "    # Load the data from the file\n",
        "    with open(\"5letters.txt\", \"r\") as f:\n",
        "        words = f.read().splitlines()\n",
        "\n",
        "    return words\n"
      ]
    },
    {
      "cell_type": "code",
      "execution_count": 10,
      "metadata": {
        "id": "X1DZvgKoz3LW"
      },
      "outputs": [],
      "source": [
        "import json\n",
        "\n",
        "words = load_data()\n",
        "with open(\"words.json\", \"r\") as f:\n",
        "    idlist = json.load(f)"
      ]
    },
    {
      "cell_type": "code",
      "execution_count": 11,
      "metadata": {
        "id": "ooBiPIHZA6a2"
      },
      "outputs": [],
      "source": [
        "from tqdm import tqdm\n",
        "import json\n",
        "from collections import Counter\n",
        "import math\n",
        "\n",
        "freqs = {}\n",
        "for word in words:\n",
        "    freqs[word] = Counter(word)\n",
        "results = {}\n",
        "\n",
        "def get_word_appearance(word: str, candidate: str) -> str:\n",
        "    result = ['m'] * len(word)\n",
        "    freq = freqs[candidate].copy()\n",
        "    unchecked = []\n",
        "    # First pass: Check for exact matches\n",
        "    for i, (w, c) in enumerate(zip(word, candidate)):\n",
        "        if w == c:\n",
        "            result[i] = 'c'\n",
        "            freq[w] -= 1\n",
        "        elif w not in candidate:\n",
        "            result[i] = 'w'\n",
        "        else:\n",
        "            unchecked.append(i)\n",
        "    if len(unchecked) == 0:\n",
        "        return \"\".join(result)\n",
        "\n",
        "    # Second pass: Check for misplaced matches\n",
        "    for i in unchecked:\n",
        "        w = word[i]\n",
        "        if freq.get(w, 0) > 0:\n",
        "            freq[w] -= 1\n",
        "        else:\n",
        "            result[i] = 'w'\n",
        "\n",
        "    return \"\".join(result)\n",
        "\n",
        "def encode_verdict(verdict: str) -> int:\n",
        "    score = 0\n",
        "    for i in range(len(verdict)):\n",
        "        c = verdict[-(i + 1)]\n",
        "        if c == 'c':\n",
        "            score += 2 * (3 ** i)\n",
        "        elif c == 'm':\n",
        "            score += 3 ** i\n",
        "    return score\n",
        "\n",
        "def decode_verdict(score: int, length: int) -> str:\n",
        "    verdict = ['w'] * length\n",
        "    for i in range(length):\n",
        "        j = score % 3\n",
        "        if j == 0:\n",
        "            verdict[-(i + 1)] = 'w'\n",
        "        elif j == 1:\n",
        "            verdict[-(i + 1)] = 'm'\n",
        "        elif j == 2:\n",
        "            verdict[-(i + 1)] = 'c'\n",
        "        score = score // 3\n",
        "    return \"\".join(verdict)\n",
        "\n",
        "def precompute():\n",
        "    for word in tqdm(words):\n",
        "        results[idlist[word]] = [0] * len(words)\n",
        "        for candidate in words:\n",
        "            results[idlist[word]][idlist[candidate]] = encode_verdict(get_word_appearance(word, candidate))\n",
        "    with open(\"newprecompute.json\", \"w\") as f:\n",
        "        json.dump(results, f)\n",
        "\n",
        "def get_entropy(word: str, candidates: list[str]) -> float:\n",
        "    i = Counter(results[str(idlist[word])][idlist[candidate]] for candidate in candidates)\n",
        "    s = 0 + sum(i[j]/len(candidates) * math.log(len(candidates)/i[j], 2) for j in i)\n",
        "    return s\n",
        "\n",
        "def get_prediction(guess: str, answer: str) -> str:\n",
        "    return decode_verdict(results[str(idlist[guess])][idlist[answer]], len(guess))"
      ]
    },
    {
      "cell_type": "code",
      "execution_count": 12,
      "metadata": {
        "id": "ypzzxy3q3Gqs",
        "outputId": "dac48889-4e7e-466c-d002-88642145262f",
        "colab": {
          "base_uri": "https://localhost:8080/",
          "height": 321
        }
      },
      "outputs": [
        {
          "output_type": "stream",
          "name": "stderr",
          "text": [
            "  1%|          | 68/12970 [00:04<12:52, 16.71it/s]\n"
          ]
        },
        {
          "output_type": "error",
          "ename": "KeyboardInterrupt",
          "evalue": "",
          "traceback": [
            "\u001b[0;31m---------------------------------------------------------------------------\u001b[0m",
            "\u001b[0;31mKeyboardInterrupt\u001b[0m                         Traceback (most recent call last)",
            "\u001b[0;32m<ipython-input-12-08d92618bfa9>\u001b[0m in \u001b[0;36m<cell line: 0>\u001b[0;34m()\u001b[0m\n\u001b[1;32m      1\u001b[0m \u001b[0;31m#for precomputation and all-pairs verdict\u001b[0m\u001b[0;34m\u001b[0m\u001b[0;34m\u001b[0m\u001b[0m\n\u001b[0;32m----> 2\u001b[0;31m \u001b[0mprecompute\u001b[0m\u001b[0;34m(\u001b[0m\u001b[0;34m)\u001b[0m\u001b[0;34m\u001b[0m\u001b[0;34m\u001b[0m\u001b[0m\n\u001b[0m",
            "\u001b[0;32m<ipython-input-11-6f489ea43961>\u001b[0m in \u001b[0;36mprecompute\u001b[0;34m()\u001b[0m\n\u001b[1;32m     62\u001b[0m         \u001b[0mresults\u001b[0m\u001b[0;34m[\u001b[0m\u001b[0midlist\u001b[0m\u001b[0;34m[\u001b[0m\u001b[0mword\u001b[0m\u001b[0;34m]\u001b[0m\u001b[0;34m]\u001b[0m \u001b[0;34m=\u001b[0m \u001b[0;34m[\u001b[0m\u001b[0;36m0\u001b[0m\u001b[0;34m]\u001b[0m \u001b[0;34m*\u001b[0m \u001b[0mlen\u001b[0m\u001b[0;34m(\u001b[0m\u001b[0mwords\u001b[0m\u001b[0;34m)\u001b[0m\u001b[0;34m\u001b[0m\u001b[0;34m\u001b[0m\u001b[0m\n\u001b[1;32m     63\u001b[0m         \u001b[0;32mfor\u001b[0m \u001b[0mcandidate\u001b[0m \u001b[0;32min\u001b[0m \u001b[0mwords\u001b[0m\u001b[0;34m:\u001b[0m\u001b[0;34m\u001b[0m\u001b[0;34m\u001b[0m\u001b[0m\n\u001b[0;32m---> 64\u001b[0;31m             \u001b[0mresults\u001b[0m\u001b[0;34m[\u001b[0m\u001b[0midlist\u001b[0m\u001b[0;34m[\u001b[0m\u001b[0mword\u001b[0m\u001b[0;34m]\u001b[0m\u001b[0;34m]\u001b[0m\u001b[0;34m[\u001b[0m\u001b[0midlist\u001b[0m\u001b[0;34m[\u001b[0m\u001b[0mcandidate\u001b[0m\u001b[0;34m]\u001b[0m\u001b[0;34m]\u001b[0m \u001b[0;34m=\u001b[0m \u001b[0mencode_verdict\u001b[0m\u001b[0;34m(\u001b[0m\u001b[0mget_word_appearance\u001b[0m\u001b[0;34m(\u001b[0m\u001b[0mword\u001b[0m\u001b[0;34m,\u001b[0m \u001b[0mcandidate\u001b[0m\u001b[0;34m)\u001b[0m\u001b[0;34m)\u001b[0m\u001b[0;34m\u001b[0m\u001b[0;34m\u001b[0m\u001b[0m\n\u001b[0m\u001b[1;32m     65\u001b[0m     \u001b[0;32mwith\u001b[0m \u001b[0mopen\u001b[0m\u001b[0;34m(\u001b[0m\u001b[0;34m\"newprecompute.json\"\u001b[0m\u001b[0;34m,\u001b[0m \u001b[0;34m\"w\"\u001b[0m\u001b[0;34m)\u001b[0m \u001b[0;32mas\u001b[0m \u001b[0mf\u001b[0m\u001b[0;34m:\u001b[0m\u001b[0;34m\u001b[0m\u001b[0;34m\u001b[0m\u001b[0m\n\u001b[1;32m     66\u001b[0m         \u001b[0mjson\u001b[0m\u001b[0;34m.\u001b[0m\u001b[0mdump\u001b[0m\u001b[0;34m(\u001b[0m\u001b[0mresults\u001b[0m\u001b[0;34m,\u001b[0m \u001b[0mf\u001b[0m\u001b[0;34m)\u001b[0m\u001b[0;34m\u001b[0m\u001b[0;34m\u001b[0m\u001b[0m\n",
            "\u001b[0;32m<ipython-input-11-6f489ea43961>\u001b[0m in \u001b[0;36mget_word_appearance\u001b[0;34m(word, candidate)\u001b[0m\n\u001b[1;32m     19\u001b[0m             \u001b[0mfreq\u001b[0m\u001b[0;34m[\u001b[0m\u001b[0mw\u001b[0m\u001b[0;34m]\u001b[0m \u001b[0;34m-=\u001b[0m \u001b[0;36m1\u001b[0m\u001b[0;34m\u001b[0m\u001b[0;34m\u001b[0m\u001b[0m\n\u001b[1;32m     20\u001b[0m         \u001b[0;32melif\u001b[0m \u001b[0mw\u001b[0m \u001b[0;32mnot\u001b[0m \u001b[0;32min\u001b[0m \u001b[0mcandidate\u001b[0m\u001b[0;34m:\u001b[0m\u001b[0;34m\u001b[0m\u001b[0;34m\u001b[0m\u001b[0m\n\u001b[0;32m---> 21\u001b[0;31m             \u001b[0mresult\u001b[0m\u001b[0;34m[\u001b[0m\u001b[0mi\u001b[0m\u001b[0;34m]\u001b[0m \u001b[0;34m=\u001b[0m \u001b[0;34m'w'\u001b[0m\u001b[0;34m\u001b[0m\u001b[0;34m\u001b[0m\u001b[0m\n\u001b[0m\u001b[1;32m     22\u001b[0m         \u001b[0;32melse\u001b[0m\u001b[0;34m:\u001b[0m\u001b[0;34m\u001b[0m\u001b[0;34m\u001b[0m\u001b[0m\n\u001b[1;32m     23\u001b[0m             \u001b[0munchecked\u001b[0m\u001b[0;34m.\u001b[0m\u001b[0mappend\u001b[0m\u001b[0;34m(\u001b[0m\u001b[0mi\u001b[0m\u001b[0;34m)\u001b[0m\u001b[0;34m\u001b[0m\u001b[0;34m\u001b[0m\u001b[0m\n",
            "\u001b[0;31mKeyboardInterrupt\u001b[0m: "
          ]
        }
      ],
      "source": [
        "#for precomputation and all-pairs verdict\n",
        "precompute()"
      ]
    },
    {
      "cell_type": "code",
      "execution_count": 13,
      "metadata": {
        "id": "K2SVbERt3Q-T"
      },
      "outputs": [],
      "source": [
        "#for loading precomputed data\n",
        "with open(\"newprecompute.json\", \"r\") as f:\n",
        "    results = json.load(f)"
      ]
    },
    {
      "cell_type": "code",
      "source": [
        "from tqdm import tqdm\n",
        "import json\n",
        "\n",
        "class bot:\n",
        "    candidates: list[str]\n",
        "\n",
        "    def __init__(self):\n",
        "        self.candidates = load_data()\n",
        "        with open(\"precompute.json\", \"r\") as f:\n",
        "            score = json.load(f)\n",
        "        with open(\"output.json\", \"w\") as f:\n",
        "            json.dump(score, f, indent=4)\n",
        "\n",
        "    def get_guess(self):\n",
        "        with open(\"output.json\", \"r\") as f:\n",
        "            score = json.load(f)\n",
        "            return list(score.keys())[0]\n",
        "\n",
        "    def narrow_down(self, guess: str, result: str):\n",
        "        f = open(\"log_file.txt\", \"w\")\n",
        "        f.write(f\"guess: {guess}, result: {result}\\n\")\n",
        "        new_candidates = []\n",
        "        for candidate in self.candidates:\n",
        "            i = get_prediction(guess, candidate)\n",
        "            if i == result:\n",
        "                new_candidates.append(candidate)\n",
        "        self.candidates = new_candidates\n",
        "        print(len(self.candidates))\n",
        "        score = {}\n",
        "        for word in tqdm(self.candidates):\n",
        "            score[word] = get_entropy(word, self.candidates)\n",
        "        score = dict(sorted(score.items(), key=lambda item: item[1], reverse=True))\n",
        "        json.dump(score, open(\"output.json\", \"w\"), indent=4)"
      ],
      "metadata": {
        "id": "rr74DVA4DjmK"
      },
      "execution_count": 15,
      "outputs": []
    },
    {
      "cell_type": "code",
      "execution_count": 24,
      "metadata": {
        "id": "0T1whLYfA6a5"
      },
      "outputs": [],
      "source": [
        "import random\n",
        "\n",
        "class game:\n",
        "    answer: str\n",
        "    guesses: list[str] = []\n",
        "    results: list[str] = []\n",
        "\n",
        "    def __init__(self, length: int = 5, index: int = -1):\n",
        "        if length < 3:\n",
        "            raise ValueError(\"Length must be at least 3\")\n",
        "        else:\n",
        "            file = open(\"answers/\" + str(length) + \"letters.txt\", \"r\")\n",
        "            words = file.read().splitlines()\n",
        "            n = random.randint(0, len(words) - 1) if index == -1 else index\n",
        "            self.answer = words[n]\n",
        "\n",
        "    def show_answer(self):\n",
        "        return self.answer\n",
        "\n",
        "    def guess(self, guess: str):\n",
        "        if len(self.guesses) == 6:\n",
        "            return\n",
        "        if len(guess) != len(self.answer):\n",
        "            print(\"Invalid guess length\")\n",
        "            return\n",
        "        result = get_prediction(guess, self.answer)\n",
        "        self.guesses.append(guess)\n",
        "        self.results.append(result)\n",
        "        return result"
      ]
    },
    {
      "cell_type": "code",
      "execution_count": 26,
      "metadata": {
        "id": "-M9oQ3QrA6a6",
        "outputId": "958e8163-6cf5-4f60-852d-8cde20e584fa",
        "colab": {
          "base_uri": "https://localhost:8080/"
        }
      },
      "outputs": [
        {
          "output_type": "stream",
          "name": "stdout",
          "text": [
            "abase\n",
            "True\n",
            "116\n"
          ]
        },
        {
          "output_type": "stream",
          "name": "stderr",
          "text": [
            "100%|██████████| 116/116 [00:00<00:00, 19738.70it/s]\n"
          ]
        },
        {
          "output_type": "stream",
          "name": "stdout",
          "text": [
            "Guess: aargh, Result: cmwww\n",
            "True\n",
            "3\n"
          ]
        },
        {
          "output_type": "stream",
          "name": "stderr",
          "text": [
            "100%|██████████| 3/3 [00:00<00:00, 1819.39it/s]\n"
          ]
        },
        {
          "output_type": "stream",
          "name": "stdout",
          "text": [
            "Guess: alans, Result: cwcwm\n",
            "True\n",
            "1\n"
          ]
        },
        {
          "output_type": "stream",
          "name": "stderr",
          "text": [
            "100%|██████████| 1/1 [00:00<00:00, 7626.01it/s]"
          ]
        },
        {
          "output_type": "stream",
          "name": "stdout",
          "text": [
            "Guess: abase, Result: ccccc\n",
            "You win!\n",
            "6\n"
          ]
        },
        {
          "output_type": "stream",
          "name": "stderr",
          "text": [
            "\n"
          ]
        }
      ],
      "source": [
        "#run a game\n",
        "g = game(5, index = 1)\n",
        "b = bot()\n",
        "print(g.answer)\n",
        "for i in range(6):\n",
        "    guess = b.get_guess()\n",
        "    result = g.guess(guess)\n",
        "    print(g.answer in b.candidates)\n",
        "    b.narrow_down(guess, result)\n",
        "    print(f\"Guess: {guess}, Result: {result}\")\n",
        "    if result == 'c' * len(guess):\n",
        "        print(\"You win!\")\n",
        "        break\n",
        "\n",
        "print(len(g.guesses))\n"
      ]
    }
  ],
  "metadata": {
    "accelerator": "GPU",
    "colab": {
      "gpuType": "T4",
      "provenance": []
    },
    "kernelspec": {
      "display_name": "Python 3",
      "name": "python3"
    },
    "language_info": {
      "name": "python"
    }
  },
  "nbformat": 4,
  "nbformat_minor": 0
}